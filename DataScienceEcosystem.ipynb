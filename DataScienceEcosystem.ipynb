{
 "cells": [
  {
   "cell_type": "code",
   "execution_count": null,
   "id": "cfb3cb34",
   "metadata": {},
   "outputs": [],
   "source": [
    "# Data Science Tools and Ecosystem"
   ]
  },
  {
   "cell_type": "code",
   "execution_count": 2,
   "id": "9f64371b",
   "metadata": {},
   "outputs": [],
   "source": [
    "In this notebook, Data Science Tools and Ecosystem are summarized."
   ]
  },
  {
   "cell_type": "code",
   "execution_count": null,
   "id": "8cdcda86",
   "metadata": {},
   "outputs": [],
   "source": [
    "Some of the popular languages that Data Scientists use are:\n",
    "1. Python\n",
    "2. R\n",
    "3. SQL\n"
   ]
  },
  {
   "cell_type": "code",
   "execution_count": null,
   "id": "0ed5c157",
   "metadata": {},
   "outputs": [],
   "source": [
    "Some of the commonly used libraries used by Data Scientists include:\n",
    "1. Pandas\n",
    "2. NumPy\n",
    "3. Matplotlib\n"
   ]
  },
  {
   "cell_type": "code",
   "execution_count": null,
   "id": "0b467582",
   "metadata": {},
   "outputs": [],
   "source": [
    "| Data Science Tools |\n",
    "|--------------------|\n",
    "| Jupyter Notebook   |\n",
    "| RStudio            |\n",
    "| Apache Zeppelin    |\n"
   ]
  },
  {
   "cell_type": "code",
   "execution_count": null,
   "id": "26c2bdb3",
   "metadata": {},
   "outputs": [],
   "source": [
    "### Below are a few examples of evaluating arithmetic expressions in Python.\n"
   ]
  },
  {
   "cell_type": "code",
   "execution_count": 4,
   "id": "2b16534d",
   "metadata": {},
   "outputs": [
    {
     "data": {
      "text/plain": [
       "17"
      ]
     },
     "execution_count": 4,
     "metadata": {},
     "output_type": "execute_result"
    }
   ],
   "source": [
    "# This is a simple arithmetic expression to multiply then add integers.\n",
    "(3 * 4) + 5\n"
   ]
  },
  {
   "cell_type": "code",
   "execution_count": 5,
   "id": "6c27af6a",
   "metadata": {},
   "outputs": [
    {
     "data": {
      "text/plain": [
       "3.3333333333333335"
      ]
     },
     "execution_count": 5,
     "metadata": {},
     "output_type": "execute_result"
    }
   ],
   "source": [
    "# This will convert 200 minutes to hours by dividing by 60.\n",
    "200 / 60\n"
   ]
  },
  {
   "cell_type": "code",
   "execution_count": null,
   "id": "af3c4c20",
   "metadata": {},
   "outputs": [],
   "source": [
    "**Objectives:**\n",
    "- List popular languages for Data Science.\n",
    "- List commonly used libraries in Data Science.\n",
    "- Create a table of Data Science tools.\n",
    "- Demonstrate basic arithmetic operations in Python.\n",
    "- Convert minutes to hours using Python.\n"
   ]
  },
  {
   "cell_type": "code",
   "execution_count": null,
   "id": "2a69de4b",
   "metadata": {},
   "outputs": [],
   "source": [
    "## Author\n",
    "THEODORA TZIORA\n"
   ]
  }
 ],
 "metadata": {
  "kernelspec": {
   "display_name": "Python 3 (ipykernel)",
   "language": "python",
   "name": "python3"
  },
  "language_info": {
   "codemirror_mode": {
    "name": "ipython",
    "version": 3
   },
   "file_extension": ".py",
   "mimetype": "text/x-python",
   "name": "python",
   "nbconvert_exporter": "python",
   "pygments_lexer": "ipython3",
   "version": "3.11.5"
  }
 },
 "nbformat": 4,
 "nbformat_minor": 5
}
